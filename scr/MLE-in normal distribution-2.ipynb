{
 "cells": [
  {
   "cell_type": "code",
   "execution_count": 1,
   "metadata": {},
   "outputs": [],
   "source": [
    "import numpy as np\n",
    "import pandas as pd\n",
    "import matplotlib.pyplot as plt\n",
    "from scipy.optimize import minimize\n",
    "from scipy.stats import norm"
   ]
  },
  {
   "cell_type": "code",
   "execution_count": 12,
   "metadata": {},
   "outputs": [],
   "source": [
    "# read data\n",
    "data = pd.read_csv(\"../data/iris.csv\")\n",
    "data = np.array(data['petal.length'])"
   ]
  },
  {
   "cell_type": "code",
   "execution_count": 27,
   "metadata": {},
   "outputs": [],
   "source": [
    "# define likelihood function\n",
    "# def likelihood(params):\n",
    "#     mu = params[0]\n",
    "#     sigma = params[1]\n",
    "#     # log_likelihood = -np.sum(np.log(sigma) - 0.5 * np.log(2 * np.pi) - 0.5 *1)\n",
    "#     log_likelihood =  -norm.logpdf(data,loc=params[0],scale=params[1]).sum()\n",
    "\n",
    "def neglikelihood(params,data):\n",
    "    return -1*norm.logpdf(data,loc=params[0],scale=params[1]).sum()"
   ]
  },
  {
   "cell_type": "code",
   "execution_count": 32,
   "metadata": {},
   "outputs": [
    {
     "data": {
      "text/plain": [
       "(3.757999971662144, 1.7594040515807017)"
      ]
     },
     "execution_count": 32,
     "metadata": {},
     "output_type": "execute_result"
    }
   ],
   "source": [
    "# implement MLE\n",
    "res = minimize(neglikelihood,[0,1], method='L-BFGS-B',args=(data))\n",
    "\n",
    "mu_mle,sigma_mle = res.x\n",
    "mu_mle,sigma_mle"
   ]
  },
  {
   "cell_type": "code",
   "execution_count": 34,
   "metadata": {},
   "outputs": [
    {
     "data": {
      "text/plain": [
       "2.599258004546728"
      ]
     },
     "execution_count": 34,
     "metadata": {},
     "output_type": "execute_result"
    }
   ],
   "source": [
    "# evaluate model\n",
    "mu_true, sigma_true = 5.84, 0.83\n",
    "mse = ((mu_true - mu_mle)**2 + (sigma_true - sigma_mle)**2) / 2\n",
    "mse"
   ]
  }
 ],
 "metadata": {
  "kernelspec": {
   "display_name": "base",
   "language": "python",
   "name": "python3"
  },
  "language_info": {
   "codemirror_mode": {
    "name": "ipython",
    "version": 3
   },
   "file_extension": ".py",
   "mimetype": "text/x-python",
   "name": "python",
   "nbconvert_exporter": "python",
   "pygments_lexer": "ipython3",
   "version": "3.8.8"
  },
  "orig_nbformat": 4
 },
 "nbformat": 4,
 "nbformat_minor": 2
}
